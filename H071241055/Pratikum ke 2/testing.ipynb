{
 "cells": [
  {
   "cell_type": "code",
   "execution_count": 12,
   "metadata": {},
   "outputs": [
    {
     "name": "stdout",
     "output_type": "stream",
     "text": [
      "Segitiga sama sisi\n"
     ]
    }
   ],
   "source": [
    "sisiA = int(input(\"Masukkan panjang sisi pertama : \"))\n",
    "sisiB = int(input(\"Masukkan panjang sisi kedua : \"))\n",
    "sisiC = int(input(\"Masukkan panjang sisi ketiga : \"))\n",
    "\n",
    "if sisiA + sisiB > sisiC and sisiA + sisiC > sisiB and sisiB + sisiC > sisiA:\n",
    "    if sisiA == sisiB == sisiC :\n",
    "        print(\"Segitiga sama sisi\")\n",
    "    elif sisiA == sisiB or sisiA == sisiC or sisiB == sisiC:\n",
    "        print(\"Segitiga sama kaki\")\n",
    "    else:\n",
    "        print(\"segitiga sembarang\")\n",
    "else:\n",
    "    print(\"Segitiga tidak valid\")"
   ]
  },
  {
   "cell_type": "code",
   "execution_count": 15,
   "metadata": {},
   "outputs": [
    {
     "ename": "NameError",
     "evalue": "name 'anggota' is not defined",
     "output_type": "error",
     "traceback": [
      "\u001b[1;31m---------------------------------------------------------------------------\u001b[0m",
      "\u001b[1;31mNameError\u001b[0m                                 Traceback (most recent call last)",
      "Cell \u001b[1;32mIn[15], line 6\u001b[0m\n\u001b[0;32m      4\u001b[0m     anggota \u001b[38;5;241m=\u001b[39m \u001b[38;5;28;01mTrue\u001b[39;00m\n\u001b[0;32m      5\u001b[0m \u001b[38;5;28;01melif\u001b[39;00m status \u001b[38;5;241m==\u001b[39m\u001b[38;5;124m\"\u001b[39m\u001b[38;5;124mtidak\u001b[39m\u001b[38;5;124m\"\u001b[39m:\n\u001b[1;32m----> 6\u001b[0m     \u001b[43manggota\u001b[49m \u001b[38;5;241m==\u001b[39m \u001b[38;5;28;01mFalse\u001b[39;00m\n\u001b[0;32m      7\u001b[0m \u001b[38;5;28;01melse\u001b[39;00m:\n\u001b[0;32m      8\u001b[0m     \u001b[38;5;28mprint\u001b[39m(\u001b[38;5;124m\"\u001b[39m\u001b[38;5;124mPilihan anda tidak ada\u001b[39m\u001b[38;5;124m\"\u001b[39m)\n",
      "\u001b[1;31mNameError\u001b[0m: name 'anggota' is not defined"
     ]
    }
   ],
   "source": [
    "usia = int(input(\"Masukkan usia: \"))\n",
    "status = input(\"Apakah Anda anggota (ya/tidak) : \")\n",
    "if status == \"ya\":\n",
    "    anggota = True\n",
    "elif status ==\"tidak\":\n",
    "    anggota == False\n",
    "else:\n",
    "    print(\"Pilihan anda tidak ada\")\n",
    "\n",
    "\n",
    "if usia < 5 :\n",
    "    print(\"Gratis\")\n",
    "elif 5 <= usia <= 12:\n",
    "    harga = 50000\n",
    "elif 13 <= usia <= 59:\n",
    "    harga = 100.000\n",
    "else:\n",
    "    harga = 70000\n",
    "\n",
    "harga_diskon = (harga * 20)/100 if anggota == True else print(harga)\n",
    "print(f\"Harga tiket: Rp.{harga_diskon}\")\n"
   ]
  }
 ],
 "metadata": {
  "kernelspec": {
   "display_name": "Python 3",
   "language": "python",
   "name": "python3"
  },
  "language_info": {
   "codemirror_mode": {
    "name": "ipython",
    "version": 3
   },
   "file_extension": ".py",
   "mimetype": "text/x-python",
   "name": "python",
   "nbconvert_exporter": "python",
   "pygments_lexer": "ipython3",
   "version": "3.12.4"
  }
 },
 "nbformat": 4,
 "nbformat_minor": 2
}
